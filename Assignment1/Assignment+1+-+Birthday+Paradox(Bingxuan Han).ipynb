{
 "cells": [
  {
   "cell_type": "markdown",
   "metadata": {},
   "source": [
    "## Assignment 1 - Intro to Python"
   ]
  },
  {
   "cell_type": "markdown",
   "metadata": {},
   "source": [
    "## Medium complexity - Birthday Paradox"
   ]
  },
  {
   "cell_type": "markdown",
   "metadata": {},
   "source": [
    "Birthday paradox concerns the probability that, in a set of n randomly chosen people, some pair of them will have the same birthday. You can read about this problem at https://en.wikipedia.org/wiki/Birthday_problem.\n",
    "\n",
    "Write a function called <i><b>has_duplicates</b></i>, that takes a list and returns <i>True</i> if there is any element that appears more than once. It should not modify the original list.\n",
    "\n",
    "If there are 45 students in the class, what are the chances that any two students will have the same birthday? You can estimate this probability by generating random samples of 45 birthdays and checking for matches.\n",
    "\n",
    "<i>Hints:</i><br>\n",
    "(1) you can generate random birthdays with the <i>randint</i> function in the random module.<br> \n",
    "(2) For simplicity, use the day number of the year, not the actual date, <br>\n",
    "(3) you can use the book solution as a starting point for this assignment: https://github.com/AllenDowney/ThinkPython2/blob/master/code/birthday.py or http://greenteapress.com/thinkpython2/code/birthday.py\n",
    "<br>\n",
    "<br>\n",
    "The code should print out: \n",
    "<li>number of students,</li> \n",
    "<li>number of iterations/samples</li> \n",
    "<li>list of duplicate days for each iteration, where duplicates are found.</li>"
   ]
  },
  {
   "cell_type": "code",
   "execution_count": 1,
   "metadata": {},
   "outputs": [
    {
     "data": {
      "application/vnd.jupyter.widget-view+json": {
       "model_id": "077a185076094d3096c334c671036d71",
       "version_major": 2,
       "version_minor": 0
      },
      "text/plain": [
       "interactive(children=(IntSlider(value=45, continuous_update=False, description='number_students', max=90, min=…"
      ]
     },
     "metadata": {},
     "output_type": "display_data"
    },
    {
     "data": {
      "text/plain": [
       "<function __main__.display_func(number_students, number_samples, display_duplicates)>"
      ]
     },
     "execution_count": 1,
     "metadata": {},
     "output_type": "execute_result"
    }
   ],
   "source": [
    "import random\n",
    "from ipywidgets import interact\n",
    "import ipywidgets as widgets\n",
    "from matplotlib import pyplot as plt\n",
    "\n",
    "#function to check if there is duplicates in a student DOB list\n",
    "def has_duplicates(t):\n",
    "    s=set(t) #check the length between the list and its set\n",
    "    return len(t) != len(s) #Same length = has no duplicate , Different Length = has duplicates\n",
    "\n",
    "#function to find duplicates items\n",
    "def check_duplicates(t):\n",
    "    d=[]\n",
    "    for i in t:\n",
    "        if t.count(i)> 1 :\n",
    "            d.append(i)\n",
    "    return d\n",
    "\n",
    "#function to generate random DOB for 'n' students\n",
    "def random_bdays(n):\n",
    "    t = []\n",
    "    for i in range(n):\n",
    "        bday = random.randint(1, 365)\n",
    "        t.append(bday)\n",
    "    return t\n",
    "\n",
    "#function to count sample which has duplicates\n",
    "def count_matches(number_students, number_samples,display_duplicates):\n",
    "    count = 0\n",
    "    for i in range(number_samples):#loop through all samples\n",
    "        t = random_bdays(number_students)\n",
    "        #check whether the sample has duplicates\n",
    "        if has_duplicates(t):\n",
    "            #check whether to display duplicates in each sample\n",
    "            if display_duplicates:\n",
    "                print(check_duplicates(t))\n",
    "            count += 1 #duplicates count increase by 1\n",
    "    return count\n",
    "\n",
    "#function to display result\n",
    "def display_func(number_students,number_samples,display_duplicates):\n",
    "    print('Number of Test Samples %d' % number_samples)\n",
    "    print('Number of Test Students %d' % number_students)\n",
    "    count = count_matches(number_students, number_samples,display_duplicates)\n",
    "    percent=(count/number_samples)*100\n",
    "    print('The chances that any two students will have the same birthday： %.2f %%' % percent)\n",
    "    \n",
    "    #display percentange with matplotlib\n",
    "    sizes=[]\n",
    "    sizes.append(percent)\n",
    "    sizes.append(100-percent)\n",
    "    labels = 'The chances that any two students will have the same birthday', ''\n",
    "    explode = (0, 0)  # 0 explode\n",
    "    fig1, ax1 = plt.subplots()\n",
    "    ax1.pie(sizes, explode=explode, labels=labels, autopct='%1.2f%%',shadow=True, startangle=90)\n",
    "    ax1.axis('equal')  # Equal aspect ratio ensures that pie is drawn as a circle.\n",
    "    plt.show()\n",
    "\n",
    "#have a interact way to change number of students and number of samples.\n",
    "interact(display_func,number_students=widgets.IntSlider(min=2,max=90,step=1,value=45,continuous_update=False),number_samples=widgets.IntSlider(min=500,max=1000,step=5,value=750,continuous_update=False),display_duplicates=False)\n"
   ]
  },
  {
   "cell_type": "code",
   "execution_count": null,
   "metadata": {},
   "outputs": [],
   "source": []
  },
  {
   "cell_type": "code",
   "execution_count": null,
   "metadata": {},
   "outputs": [],
   "source": []
  }
 ],
 "metadata": {
  "kernelspec": {
   "display_name": "Python 3",
   "language": "python",
   "name": "python3"
  },
  "language_info": {
   "codemirror_mode": {
    "name": "ipython",
    "version": 3
   },
   "file_extension": ".py",
   "mimetype": "text/x-python",
   "name": "python",
   "nbconvert_exporter": "python",
   "pygments_lexer": "ipython3",
   "version": "3.6.5"
  }
 },
 "nbformat": 4,
 "nbformat_minor": 2
}
