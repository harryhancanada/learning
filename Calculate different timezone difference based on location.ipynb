{
 "cells": [
  {
   "cell_type": "code",
   "execution_count": 47,
   "metadata": {},
   "outputs": [
    {
     "name": "stdout",
     "output_type": "stream",
     "text": [
      "Beijing\n",
      "London\n",
      "8\n"
     ]
    }
   ],
   "source": [
    "import googlemaps\n",
    "from datetime import datetime\n",
    "gmaps = googlemaps.Client(key='api')\n",
    "\n",
    "\n",
    "source1 = input() \n",
    "source2 = input() \n",
    "geocode_result1 = gmaps.geocode(source1)\n",
    "geocode_result2 = gmaps.geocode(source2)\n",
    "timezone1 = (gmaps.timezone(geocode_result1[0]['geometry']['location']))['timeZoneId'] \n",
    "timezone2 = (gmaps.timezone(geocode_result2[0]['geometry']['location']))['timeZoneId'] \n",
    "date_one = datetime.now(pytz.timezone(timezone1))\n",
    "date_two = datetime.now(pytz.timezone(timezone2))\n",
    "print(abs(date_two.hour-date_one.hour))\n"
   ]
  }
 ],
 "metadata": {
  "kernelspec": {
   "display_name": "Python 3",
   "language": "python",
   "name": "python3"
  },
  "language_info": {
   "codemirror_mode": {
    "name": "ipython",
    "version": 3
   },
   "file_extension": ".py",
   "mimetype": "text/x-python",
   "name": "python",
   "nbconvert_exporter": "python",
   "pygments_lexer": "ipython3",
   "version": "3.6.5"
  }
 },
 "nbformat": 4,
 "nbformat_minor": 2
}
