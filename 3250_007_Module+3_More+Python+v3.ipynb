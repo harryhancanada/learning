{
 "cells": [
  {
   "cell_type": "markdown",
   "metadata": {},
   "source": [
    "<H2>Week 3 More Python</H2>"
   ]
  },
  {
   "cell_type": "markdown",
   "metadata": {},
   "source": [
    "### 1 - False and True, Boolean comparison"
   ]
  },
  {
   "cell_type": "code",
   "execution_count": null,
   "metadata": {},
   "outputs": [],
   "source": [
    "# Python implicitly uses bool() object constructor to evaluate objects in Boolean contexts\n",
    "# In Python, 0 is False and any empty container (list, dictionary, strings), also counts as false\n",
    "\n",
    "my_list = []\n",
    "my_list == True"
   ]
  },
  {
   "cell_type": "code",
   "execution_count": null,
   "metadata": {},
   "outputs": [],
   "source": [
    "a = 0\n",
    "a is True"
   ]
  },
  {
   "cell_type": "code",
   "execution_count": null,
   "metadata": {},
   "outputs": [],
   "source": [
    "bool(my_list)"
   ]
  },
  {
   "cell_type": "code",
   "execution_count": null,
   "metadata": {},
   "outputs": [],
   "source": [
    "a=5\n",
    "a is True"
   ]
  },
  {
   "cell_type": "code",
   "execution_count": null,
   "metadata": {},
   "outputs": [],
   "source": [
    "bool(a)"
   ]
  },
  {
   "cell_type": "code",
   "execution_count": null,
   "metadata": {},
   "outputs": [],
   "source": [
    "my_list = [1,2,3,4]\n",
    "my_list == True"
   ]
  },
  {
   "cell_type": "code",
   "execution_count": null,
   "metadata": {},
   "outputs": [],
   "source": [
    "bool(my_list)"
   ]
  },
  {
   "cell_type": "code",
   "execution_count": null,
   "metadata": {},
   "outputs": [],
   "source": [
    "# 'is' compares identity. A string is not identical to a boolean 'True' or 'False'\n",
    "# == is equality, but a string or an integer will not be equal to either 'True' or 'False'\n",
    "\n",
    "# Let's try this instead:\n",
    "\n",
    "if my_list:\n",
    "    print(\"True\")\n",
    "else:\n",
    "    print(\"False\")"
   ]
  },
  {
   "cell_type": "code",
   "execution_count": null,
   "metadata": {},
   "outputs": [],
   "source": [
    "my_list = []\n",
    "if my_list:\n",
    "    print(\"True\")\n",
    "else:\n",
    "    print(\"False\")"
   ]
  },
  {
   "cell_type": "code",
   "execution_count": null,
   "metadata": {
    "collapsed": true
   },
   "outputs": [],
   "source": [
    "# Whirlwind Tour of Python \n",
    "\n",
    "# 03-Semantics-Variables.ipynb - line 6, and \"everything is an object\"\n",
    "# 05-Built-in-Scalar-Types.ipynb, section \"Aside: Floating-point precision\"\n"
   ]
  },
  {
   "cell_type": "markdown",
   "metadata": {},
   "source": [
    "### Modulus recap and recursion"
   ]
  },
  {
   "cell_type": "code",
   "execution_count": null,
   "metadata": {},
   "outputs": [],
   "source": [
    "# Modulus - % - divides 2 numbers and returns the remainder\n",
    "# Example: The run time of a movie is 135 minutes. How long this will be in hours and minutes?\n",
    "\n",
    "minutes = 135\n",
    "print (\"the movie runs for {} hour(s) and {} minutes\".format(minutes//60,minutes%60))"
   ]
  },
  {
   "cell_type": "code",
   "execution_count": null,
   "metadata": {},
   "outputs": [],
   "source": [
    "# Recursion\n",
    "\n",
    "def countdown(n):\n",
    "    if n<=0:\n",
    "        print(\"GO!\")\n",
    "    else:\n",
    "        print(n)\n",
    "        countdown(n-1)\n",
    "\n",
    "countdown(3)"
   ]
  },
  {
   "cell_type": "code",
   "execution_count": null,
   "metadata": {},
   "outputs": [],
   "source": [
    "#  Fibonacci numbers\n",
    "# From Chapter 08 of Whirlwind Tour Of Python\n",
    "\n",
    "def fibonacci(N):\n",
    "    L = []\n",
    "    a, b = 0, 1\n",
    "    while len(L) < N:\n",
    "        a, b = b, a + b\n",
    "        L.append(a)\n",
    "    return L\n",
    "\n",
    "fibonacci(10)"
   ]
  },
  {
   "cell_type": "code",
   "execution_count": null,
   "metadata": {},
   "outputs": [],
   "source": [
    "# Fibonacci Numbers, Think Python, chapter 6: Fruitful Functions\n",
    "# Using recursion\n",
    "\n",
    "def fibonacci2(n):\n",
    "    if n == 0:\n",
    "        return 0\n",
    "    elif n == 1:\n",
    "        return 1\n",
    "    else:\n",
    "        return fibonacci2(n-1) + fibonacci2(n-2)\n",
    "    \n",
    "fibonacci2(10)"
   ]
  },
  {
   "cell_type": "markdown",
   "metadata": {},
   "source": [
    "### Get Help in Jupyter Notebook"
   ]
  },
  {
   "cell_type": "code",
   "execution_count": null,
   "metadata": {},
   "outputs": [],
   "source": [
    "# get help\n",
    "i = 5\n",
    "help(i)"
   ]
  },
  {
   "cell_type": "code",
   "execution_count": null,
   "metadata": {
    "collapsed": true
   },
   "outputs": [],
   "source": [
    "?i"
   ]
  },
  {
   "cell_type": "code",
   "execution_count": null,
   "metadata": {
    "collapsed": true
   },
   "outputs": [],
   "source": [
    "i. # place the cursor after the period and press tab then try shift-tab"
   ]
  },
  {
   "cell_type": "markdown",
   "metadata": {},
   "source": [
    "### Working with ranges"
   ]
  },
  {
   "cell_type": "code",
   "execution_count": null,
   "metadata": {},
   "outputs": [],
   "source": [
    "# Working with ranges\n",
    "range(10)"
   ]
  },
  {
   "cell_type": "code",
   "execution_count": null,
   "metadata": {},
   "outputs": [],
   "source": [
    "for i in range(10):\n",
    "    print(i)"
   ]
  },
  {
   "cell_type": "code",
   "execution_count": null,
   "metadata": {},
   "outputs": [],
   "source": [
    "r = range(2, 4)\n",
    "for n in r:\n",
    "    print(n)"
   ]
  },
  {
   "cell_type": "code",
   "execution_count": null,
   "metadata": {},
   "outputs": [],
   "source": [
    "type(r)"
   ]
  },
  {
   "cell_type": "markdown",
   "metadata": {},
   "source": [
    "### Reading and Writing files"
   ]
  },
  {
   "cell_type": "code",
   "execution_count": null,
   "metadata": {
    "collapsed": true
   },
   "outputs": [],
   "source": [
    "# Writing files\n",
    "fout = open('mynewfile.txt', 'w')\n",
    "for i in range(2, 17):\n",
    "    fout.write(str(i) + '\\n')\n",
    "fout.close()"
   ]
  },
  {
   "cell_type": "code",
   "execution_count": null,
   "metadata": {},
   "outputs": [],
   "source": [
    "# Reading files\n",
    "f = open('mynewfile.txt', 'r')\n",
    "for line in f:\n",
    "    print(line[:-1]) # need to strip the \\n off the end\n",
    "f.close()  "
   ]
  },
  {
   "cell_type": "code",
   "execution_count": null,
   "metadata": {},
   "outputs": [],
   "source": [
    "# A more Pythonic way\n",
    "with open('mynewfile.txt', 'r') as f:\n",
    "    for line in f:\n",
    "        print(line[:-1])"
   ]
  },
  {
   "cell_type": "markdown",
   "metadata": {},
   "source": [
    "### Importing packages"
   ]
  },
  {
   "cell_type": "code",
   "execution_count": null,
   "metadata": {
    "collapsed": true
   },
   "outputs": [],
   "source": [
    "# imports\n",
    "sqrt(3)"
   ]
  },
  {
   "cell_type": "code",
   "execution_count": null,
   "metadata": {
    "collapsed": true
   },
   "outputs": [],
   "source": [
    "import math\n",
    "math.sqrt(3)"
   ]
  },
  {
   "cell_type": "code",
   "execution_count": null,
   "metadata": {
    "collapsed": true
   },
   "outputs": [],
   "source": [
    "sqrt(3)"
   ]
  },
  {
   "cell_type": "code",
   "execution_count": null,
   "metadata": {
    "collapsed": true
   },
   "outputs": [],
   "source": [
    "from math import sqrt\n",
    "sqrt(3)"
   ]
  },
  {
   "cell_type": "code",
   "execution_count": null,
   "metadata": {
    "collapsed": true
   },
   "outputs": [],
   "source": [
    "import numpy as np"
   ]
  },
  {
   "cell_type": "code",
   "execution_count": null,
   "metadata": {
    "collapsed": true
   },
   "outputs": [],
   "source": [
    "np.__version__"
   ]
  },
  {
   "cell_type": "code",
   "execution_count": null,
   "metadata": {
    "collapsed": true
   },
   "outputs": [],
   "source": [
    "import this"
   ]
  },
  {
   "cell_type": "markdown",
   "metadata": {},
   "source": [
    "### Classes"
   ]
  },
  {
   "cell_type": "code",
   "execution_count": null,
   "metadata": {
    "collapsed": true
   },
   "outputs": [],
   "source": [
    "# Creating classes\n",
    "class Fruit:\n",
    "    bitten = False                       # <- define and initialize a field\n",
    "    def __init__(self, name, colour):    # <- constructor for an object\n",
    "        self.name = name                 # <- define and initialize\n",
    "        self.colour = colour\n",
    "    def bite(self):\n",
    "        self.bitten = True"
   ]
  },
  {
   "cell_type": "code",
   "execution_count": null,
   "metadata": {
    "collapsed": true
   },
   "outputs": [],
   "source": [
    "# Creating instances of a class\n",
    "a = Fruit(\"apple\", \"red\")\n",
    "b = Fruit(\"banana\", \"yellow\")"
   ]
  },
  {
   "cell_type": "code",
   "execution_count": null,
   "metadata": {
    "collapsed": true
   },
   "outputs": [],
   "source": [
    "a"
   ]
  },
  {
   "cell_type": "code",
   "execution_count": null,
   "metadata": {
    "collapsed": true
   },
   "outputs": [],
   "source": [
    "# Referencing object fields\n",
    "a.bitten"
   ]
  },
  {
   "cell_type": "code",
   "execution_count": null,
   "metadata": {
    "collapsed": true
   },
   "outputs": [],
   "source": [
    "# Using object methods\n",
    "a.bite()"
   ]
  },
  {
   "cell_type": "code",
   "execution_count": null,
   "metadata": {
    "collapsed": true
   },
   "outputs": [],
   "source": [
    "a.bitten"
   ]
  },
  {
   "cell_type": "code",
   "execution_count": null,
   "metadata": {
    "collapsed": true
   },
   "outputs": [],
   "source": [
    "c = Fruit(\"pear\")"
   ]
  },
  {
   "cell_type": "code",
   "execution_count": null,
   "metadata": {
    "collapsed": true
   },
   "outputs": [],
   "source": [
    "# Methods whose names start and end with DoubleUNDERscore (dunder).\n",
    "# These are methods that Python uses, they are usually defined in one of Python classes,\n",
    "# and often called \"magic methods\". \n",
    "\n",
    "# For example __init__() is called when the object is created. \n",
    "# __new__() is called to build the instance. \n",
    "\n",
    "# Example: if you implement the __str__() method, \n",
    "# it will be automatically called whenever an instance of the class is used in a string context, \n",
    "# e.g. when you output its value using print().\n",
    "\n",
    "class Book:\n",
    "  def __init__(self, author, title):\n",
    "    self.author = author\n",
    "    self.title = title\n",
    "  def __str__(self):\n",
    "    return \"'{}' by {}\".format(self.title, self.author)\n",
    " \n",
    "b = Book(\"George R.R. Martin\", \"A Game of Thrones\")\n",
    "print(b)"
   ]
  },
  {
   "cell_type": "code",
   "execution_count": null,
   "metadata": {
    "collapsed": true
   },
   "outputs": [],
   "source": [
    "name = \"Jane\"\n",
    "name.__len__()"
   ]
  },
  {
   "cell_type": "code",
   "execution_count": null,
   "metadata": {
    "collapsed": true
   },
   "outputs": [],
   "source": [
    "len(name)"
   ]
  },
  {
   "cell_type": "markdown",
   "metadata": {},
   "source": [
    "### Formatting print output"
   ]
  },
  {
   "cell_type": "code",
   "execution_count": null,
   "metadata": {},
   "outputs": [],
   "source": [
    "# Formatting strings with format specifiers\n",
    "\n",
    "# Pad with spaces if < 10 chars long\n",
    "print(\"{0:20} is the best of them all\".format(\"Stella Artois\"))\n",
    "\n",
    "# Take the width from the second parameter\n",
    "print(\"{0:{1}} is the best of them all\".format(\"Stella Artois\", 10))\n",
    "\n",
    "# Take named arguments\n",
    "print(\"{beer:{width}} is the best of them all\".format(beer=\"Stella Artois\", width=10))\n",
    "\n",
    "# Force right justification\n",
    "print(\"{0:>20} is the best of them all\".format(\"Stella Artois\"))\n",
    "\n",
    "# Force right justification and pad with &\n",
    "print(\"{0:&>20} is the best of them all\".format(\"Stella Artois\"))"
   ]
  },
  {
   "cell_type": "code",
   "execution_count": null,
   "metadata": {},
   "outputs": [],
   "source": [
    "# String interpolation\n",
    "the_guy = \"Jack\"\n",
    "the_gal = \"Jill\"\n",
    "print(\"%s and %s went up the hill\" % (the_guy, the_gal))"
   ]
  },
  {
   "cell_type": "markdown",
   "metadata": {},
   "source": [
    "### Zip and Unzip"
   ]
  },
  {
   "cell_type": "code",
   "execution_count": null,
   "metadata": {},
   "outputs": [],
   "source": [
    "# Zip\n",
    "a = [1, 2, 3, 4]\n",
    "b = [5, 6, 7, 8]\n",
    "zip(a, b)"
   ]
  },
  {
   "cell_type": "code",
   "execution_count": null,
   "metadata": {},
   "outputs": [],
   "source": [
    "ab = zip(a,b)\n",
    "type(ab)"
   ]
  },
  {
   "cell_type": "code",
   "execution_count": null,
   "metadata": {},
   "outputs": [],
   "source": [
    "c = list(zip(a,b))\n",
    "c"
   ]
  },
  {
   "cell_type": "code",
   "execution_count": null,
   "metadata": {},
   "outputs": [],
   "source": [
    "# Unzip\n",
    "zip(*c)"
   ]
  },
  {
   "cell_type": "code",
   "execution_count": null,
   "metadata": {},
   "outputs": [],
   "source": [
    "list(zip(*c))"
   ]
  },
  {
   "cell_type": "code",
   "execution_count": null,
   "metadata": {},
   "outputs": [],
   "source": [
    "print(list(list(zip(*c))[0]))\n",
    "print(list(list(zip(*c))[1]))"
   ]
  },
  {
   "cell_type": "code",
   "execution_count": null,
   "metadata": {},
   "outputs": [],
   "source": [
    "new_a = list(list(zip(*c))[0])\n",
    "new_a"
   ]
  },
  {
   "cell_type": "markdown",
   "metadata": {},
   "source": [
    "### List Comprehension"
   ]
  },
  {
   "cell_type": "code",
   "execution_count": null,
   "metadata": {},
   "outputs": [],
   "source": [
    "# List Comprehension\n",
    "\n",
    "nums = [0, 1, 2, 3, 4]\n",
    "squares = []\n",
    "for x in nums:\n",
    "    squares.append(x ** 2)\n",
    "print(squares) "
   ]
  },
  {
   "cell_type": "code",
   "execution_count": null,
   "metadata": {},
   "outputs": [],
   "source": [
    "# Can be written simplier with List Comprehension\n",
    "\n",
    "nums = [0, 1, 2, 3, 4]\n",
    "squares = [x ** 2 for x in nums]\n",
    "print(squares)"
   ]
  },
  {
   "cell_type": "code",
   "execution_count": null,
   "metadata": {},
   "outputs": [],
   "source": [
    "# List comprehension can also contain conditions:\n",
    "\n",
    "nums = [0, 1, 2, 3, 4]\n",
    "even_squares = [x ** 2 for x in nums if x % 2 == 0]\n",
    "print(even_squares)"
   ]
  },
  {
   "cell_type": "code",
   "execution_count": null,
   "metadata": {},
   "outputs": [],
   "source": [
    "# Passing arguments by parameter name\n",
    "def cat_sound(animal):\n",
    "    if animal == 'cat': return 'meow'\n",
    "    elif animal == 'lion': return 'roar'\n",
    "    else: return 'unknown'\n",
    "\n",
    "cat_sound(animal='cat')"
   ]
  },
  {
   "cell_type": "markdown",
   "metadata": {},
   "source": [
    "### Lambda Function"
   ]
  },
  {
   "cell_type": "code",
   "execution_count": null,
   "metadata": {
    "collapsed": true
   },
   "outputs": [],
   "source": [
    "# Lambda functions\n",
    "# In Python, functions can be passed as arguments to another function\n",
    "# Lambda functions are functions that have no name\n",
    "# Usually used where a function requires another short function as a parameter\n",
    "# and will not be reused again elsewhere\n",
    "\n",
    "# Map is a function from functional programming that takes a function\n",
    "# as a parameter\n",
    "\n",
    "# Function to apply a function fn to every element of a list lst\n",
    "def map(lst, fn):\n",
    "    new_list = []\n",
    "    for element in lst:\n",
    "        new_list.append(fn(element))\n",
    "    return new_list"
   ]
  },
  {
   "cell_type": "code",
   "execution_count": null,
   "metadata": {},
   "outputs": [],
   "source": [
    "# We can invoke it with a plain ordinary function\n",
    "\n",
    "def square_it(x):\n",
    "    return x * x\n",
    "\n",
    "map([1, 2, 3, 4, 5, 6], square_it)"
   ]
  },
  {
   "cell_type": "code",
   "execution_count": null,
   "metadata": {},
   "outputs": [],
   "source": [
    "# Or we can use an equivalent short-form lambda\n",
    "map([1, 2, 3, 4, 5, 6], lambda x: x * x)"
   ]
  },
  {
   "cell_type": "code",
   "execution_count": null,
   "metadata": {},
   "outputs": [],
   "source": [
    "# Another example\n",
    "map([1, 2, 3, 4, 5, 6], lambda x: x + 1)"
   ]
  },
  {
   "cell_type": "markdown",
   "metadata": {},
   "source": [
    "### Defining arguments for a function"
   ]
  },
  {
   "cell_type": "code",
   "execution_count": null,
   "metadata": {},
   "outputs": [],
   "source": [
    "# The following are advanced topics not required for the course\n",
    "# Handling a variable number of arguments\n",
    "def myfunc(**kwargs):\n",
    "    for k,v in kwargs.items():\n",
    "        print (\"%s = %s\" % (k, v))\n",
    "\n",
    "myfunc(a=1)"
   ]
  },
  {
   "cell_type": "code",
   "execution_count": null,
   "metadata": {},
   "outputs": [],
   "source": [
    "myfunc(b=2, a=1)"
   ]
  },
  {
   "cell_type": "code",
   "execution_count": null,
   "metadata": {},
   "outputs": [],
   "source": [
    "# Assigning functions to variables\n",
    "sit = square_it\n",
    "map([10, 100], sit)"
   ]
  },
  {
   "cell_type": "code",
   "execution_count": null,
   "metadata": {},
   "outputs": [],
   "source": [
    "# a single * before a variable means \"expand this as a sequence\", \n",
    "# a double ** before a variable means \"expand this as a dictionary\"\n",
    "def catch_all(*args, **kwargs):\n",
    "    print(\"args =\", args)\n",
    "    print(\"kwargs = \", kwargs)\n",
    "    \n",
    "catch_all(1, 2, 3, a=4, b=5)"
   ]
  },
  {
   "cell_type": "markdown",
   "metadata": {},
   "source": [
    "### Generators and Decorators"
   ]
  },
  {
   "cell_type": "code",
   "execution_count": null,
   "metadata": {
    "collapsed": true
   },
   "outputs": [],
   "source": [
    "# Generator functions\n",
    "\n",
    "# An iterator in Python is any python type that can be used with a for loop. \n",
    "# Python lists, tuples, dicts are all examples of inbuilt iterators. \n",
    "#  A generator is a function that produces iterators.\n",
    " \n",
    "# Define a generator function that given x returns the next three numbers\n",
    "def next_three(x):\n",
    "    n = 1\n",
    "    while n < 4:\n",
    "        print(\"In generator: n=\", n, \", returning \", x + n)\n",
    "        yield x + n\n",
    "        n += 1"
   ]
  },
  {
   "cell_type": "code",
   "execution_count": null,
   "metadata": {
    "collapsed": true
   },
   "outputs": [],
   "source": [
    "# Now try it out\n",
    "for v in next_three(5):\n",
    "    print(v)"
   ]
  },
  {
   "cell_type": "raw",
   "metadata": {},
   "source": [
    "Decorators - can modify the behaviour of a function\n",
    "\n",
    "@some_decorator\n",
    "def some_function(arg):\n",
    "    \"code here\"\n",
    "\n",
    "Equivalent to this:\n",
    "\n",
    "def some_function(arg):\n",
    "    \"code here\"\n",
    "some_function = some_decorator(some_function)\n",
    "\n",
    "some_decorator() is a function that \n",
    "(a) takes a function as an argument, and \n",
    "(b) returns a function. \n",
    "\n",
    "Terminology:\n",
    "• The decorator is what comes after the @. It’s a function.\n",
    "• The wrapped function is the one def’ed on the next line. It is also a function.\n",
    "• The result of decorating a function is the wrapper function. It’s what is called in the code\n"
   ]
  },
  {
   "cell_type": "code",
   "execution_count": null,
   "metadata": {
    "collapsed": true
   },
   "outputs": [],
   "source": [
    "def our_decorator(func):\n",
    "    def function_wrapper(x):\n",
    "        print(\"Before calling \" + func.__name__)\n",
    "        res = func(x)\n",
    "        print(res)\n",
    "        print(\"After calling \" + func.__name__)\n",
    "    return function_wrapper\n",
    "\n",
    "@our_decorator\n",
    "def succ(n):\n",
    "    return n + 1\n",
    "\n",
    "succ(10)"
   ]
  },
  {
   "cell_type": "code",
   "execution_count": null,
   "metadata": {
    "collapsed": true
   },
   "outputs": [],
   "source": [
    "def succ(n):\n",
    "    return n + 1\n",
    "\n",
    "succ(10)"
   ]
  },
  {
   "cell_type": "code",
   "execution_count": null,
   "metadata": {
    "collapsed": true
   },
   "outputs": [],
   "source": []
  },
  {
   "cell_type": "code",
   "execution_count": null,
   "metadata": {
    "collapsed": true
   },
   "outputs": [],
   "source": []
  }
 ],
 "metadata": {
  "kernelspec": {
   "display_name": "Python 3",
   "language": "python",
   "name": "python3"
  },
  "language_info": {
   "codemirror_mode": {
    "name": "ipython",
    "version": 3
   },
   "file_extension": ".py",
   "mimetype": "text/x-python",
   "name": "python",
   "nbconvert_exporter": "python",
   "pygments_lexer": "ipython3",
   "version": "3.6.1"
  }
 },
 "nbformat": 4,
 "nbformat_minor": 2
}
